{
 "cells": [
  {
   "cell_type": "markdown",
   "metadata": {},
   "source": [
    "# Import Required Libraries\n",
    "Import the necessary libraries, including os, random, and shutil."
   ]
  },
  {
   "cell_type": "code",
   "execution_count": 2,
   "metadata": {},
   "outputs": [],
   "source": [
    "# Import Required Libraries\n",
    "import os\n",
    "import random\n",
    "import shutil"
   ]
  },
  {
   "cell_type": "markdown",
   "metadata": {},
   "source": [
    "# Set Seed for Reproducibility\n",
    "Set the seed for the random number generator to ensure reproducibility."
   ]
  },
  {
   "cell_type": "code",
   "execution_count": 3,
   "metadata": {},
   "outputs": [],
   "source": [
    "# Set Seed for Reproducibility\n",
    "random.seed(42)  # Set the seed for reproducibility"
   ]
  },
  {
   "cell_type": "markdown",
   "metadata": {},
   "source": [
    "# Define Paths\n",
    "Define the paths to the dataset, images, labels, and the train and test directories."
   ]
  },
  {
   "cell_type": "markdown",
   "metadata": {},
   "source": [
    "# Create Directories\n",
    "Create the train and test directories if they do not already exist."
   ]
  },
  {
   "cell_type": "code",
   "execution_count": 5,
   "metadata": {},
   "outputs": [],
   "source": [
    "# Create the train and test directories if they don't exist\n",
    "os.makedirs(train_images_path, exist_ok=True)\n",
    "os.makedirs(train_labels_path, exist_ok=True)\n",
    "os.makedirs(test_images_path, exist_ok=True)\n",
    "os.makedirs(test_labels_path, exist_ok=True)"
   ]
  },
  {
   "cell_type": "markdown",
   "metadata": {},
   "source": [
    "# Get List of Files\n",
    "Get the list of image and label files from the dataset."
   ]
  },
  {
   "cell_type": "code",
   "execution_count": 6,
   "metadata": {},
   "outputs": [
    {
     "name": "stdout",
     "output_type": "stream",
     "text": [
      "Found 367 images and 367 labels.\n"
     ]
    }
   ],
   "source": [
    "# Get List of Files\n",
    "\n",
    "# Get the list of image files\n",
    "image_files = [f for f in os.listdir(images_path) if os.path.isfile(os.path.join(images_path, f))]\n",
    "\n",
    "# Get the list of label files\n",
    "label_files = [f for f in os.listdir(labels_path) if os.path.isfile(os.path.join(labels_path, f))]\n",
    "\n",
    "# Ensure that the image files and label files correspond to each other\n",
    "image_files.sort()\n",
    "label_files.sort()\n",
    "\n",
    "# Check if the number of images and labels are the same\n",
    "assert len(image_files) == len(label_files), \"The number of images and labels do not match.\"\n",
    "\n",
    "# Display the number of files found\n",
    "print(f\"Found {len(image_files)} images and {len(label_files)} labels.\")"
   ]
  },
  {
   "cell_type": "markdown",
   "metadata": {},
   "source": [
    "# Shuffle and Split Data\n",
    "Shuffle the list of files and split them into training and testing sets with an 80-20 split."
   ]
  },
  {
   "cell_type": "code",
   "execution_count": 7,
   "metadata": {},
   "outputs": [
    {
     "name": "stdout",
     "output_type": "stream",
     "text": [
      "Training set: 293 images and labels.\n",
      "Testing set: 74 images and labels.\n"
     ]
    }
   ],
   "source": [
    "# Shuffle and Split Data\n",
    "\n",
    "# Combine the image and label files into a list of tuples\n",
    "data = list(zip(image_files, label_files))\n",
    "\n",
    "# Shuffle the data\n",
    "random.shuffle(data)\n",
    "\n",
    "# Calculate the split index\n",
    "split_index = int(len(data) * 0.8)\n",
    "\n",
    "# Split the data into training and testing sets\n",
    "train_data = data[:split_index]\n",
    "test_data = data[split_index:]\n",
    "\n",
    "# Function to copy files to the destination directory\n",
    "def copy_files(data, dest_images_path, dest_labels_path):\n",
    "    for image_file, label_file in data:\n",
    "        shutil.copy(os.path.join(images_path, image_file), os.path.join(dest_images_path, image_file))\n",
    "        shutil.copy(os.path.join(labels_path, label_file), os.path.join(dest_labels_path, label_file))\n",
    "\n",
    "# Copy the training data\n",
    "copy_files(train_data, train_images_path, train_labels_path)\n",
    "\n",
    "# Copy the testing data\n",
    "copy_files(test_data, test_images_path, test_labels_path)\n",
    "\n",
    "# Display the number of files in each set\n",
    "print(f\"Training set: {len(train_data)} images and labels.\")\n",
    "print(f\"Testing set: {len(test_data)} images and labels.\")"
   ]
  }
 ],
 "metadata": {
  "kernelspec": {
   "display_name": "Python 3",
   "language": "python",
   "name": "python3"
  },
  "language_info": {
   "codemirror_mode": {
    "name": "ipython",
    "version": 3
   },
   "file_extension": ".py",
   "mimetype": "text/x-python",
   "name": "python",
   "nbconvert_exporter": "python",
   "pygments_lexer": "ipython3",
   "version": "3.11.5"
  }
 },
 "nbformat": 4,
 "nbformat_minor": 2
}
