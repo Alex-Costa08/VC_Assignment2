{
 "cells": [
  {
   "cell_type": "code",
   "execution_count": null,
   "metadata": {},
   "outputs": [],
   "source": [
    "# Divide the data into training and testing sets\n",
    "# path: datasets/kame_cras_pool_2023-11-08\n",
    "\n",
    "import os\n",
    "import random\n",
    "import shutil\n",
    "\n",
    "# Set the seed for reproducibility\n",
    "random.seed(42)\n",
    "\n",
    "# Define the path to the dataset\n",
    "path = \"datasets/kame_cras_pool_2023-11-08\"\n",
    "\n",
    "# Define the path to the training and testing directories\n",
    "train_path = \"datasets/kame_cras_pool_2023-11-08/train\"\n",
    "test_path = \"datasets/kame_cras_pool_2023-11-08/test\"\n",
    "\n"
   ]
  }
 ],
 "metadata": {
  "language_info": {
   "name": "python"
  }
 },
 "nbformat": 4,
 "nbformat_minor": 2
}
