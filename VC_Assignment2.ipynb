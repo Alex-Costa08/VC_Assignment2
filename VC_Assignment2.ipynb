{
 "cells": [
  {
   "cell_type": "markdown",
   "metadata": {
    "id": "XugfLk7Up9ZD"
   },
   "source": [
    "# Computer Vision - Assignment 2\n",
    "\n",
    "## Protection Anode Detection in Underwater Structures\n",
    "\n",
    "-------\n",
    "\n",
    "#### Alexandre Vilhena da Costa\n",
    "#### Tiago Marques Claro"
   ]
  },
  {
   "cell_type": "markdown",
   "metadata": {
    "id": "NhmnIky0qqQb"
   },
   "source": [
    "Using the Sample folder to get an understanding of the labels.\n",
    "\n",
    "**Structure:**\n",
    "\n",
    "- class\n",
    "- x coordinate center point of the bounding box\n",
    "- y coordinate center point of the bounding box\n",
    "- bounding box width\n",
    "- bounding box height"
   ]
  },
  {
   "cell_type": "code",
   "execution_count": 1,
   "metadata": {
    "colab": {
     "base_uri": "https://localhost:8080/",
     "height": 1000
    },
    "id": "jTq7FMsUqpd_",
    "outputId": "74eeef04-d69b-4c70-9dfa-66be524856ba"
   },
   "outputs": [],
   "source": [
    "import os\n",
    "import cv2\n",
    "\n",
    "print_images = True\n",
    "\n",
    "# Get the images from VC_Assignment2/Sample/images\n",
    "image_folder = 'datasets/Sample/images'\n",
    "images_files = [f for f in os.listdir(image_folder) if os.path.isfile(os.path.join(image_folder, f))]\n",
    "\n",
    "# Get the lables from VC_Assignment2/Sample/labels\n",
    "label_folder = 'datasets/Sample/labels'\n",
    "labels = [f for f in os.listdir(label_folder) if os.path.isfile(os.path.join(label_folder, f))]\n",
    "\n",
    "# Apply the bounding box to the images, the txt files has this example format: \"class x y width height\"\n",
    "# - class\n",
    "# - x coordinate center point of the bounding box\n",
    "# - y coordinate center point of the bounding box\n",
    "# - bounding box width\n",
    "# - bounding box height\n",
    "\n",
    "images_bbox = []\n",
    "\n",
    "for i in range(len(images_files)):\n",
    "  image = cv2.imread(os.path.join(image_folder, images_files[i]))\n",
    "  label = open(os.path.join(label_folder, labels[i]), 'r')\n",
    "  img_height, img_width, _ = image.shape\n",
    "\n",
    "  for line in label:\n",
    "    line = line.split()\n",
    "    x = int(float(line[1]) * img_width)\n",
    "    y = int(float(line[2]) * img_height)\n",
    "    width = int(float(line[3]) * img_width)\n",
    "    height = int(float(line[4]) * img_height)\n",
    "    cv2.rectangle(image, (x - width // 2, y - height // 2), (x + width // 2, y + height // 2), (0, 255, 0), 2)\n",
    "\n",
    "  images_bbox.append(image)\n",
    "\n",
    "# Show the images\n",
    "if print_images:\n",
    "  for image in images_bbox:\n",
    "    cv2.imshow('image', image)\n",
    "    cv2.waitKey(0)\n",
    "    cv2.destroyAllWindows()\n",
    "\n"
   ]
  }
 ],
 "metadata": {
  "colab": {
   "provenance": []
  },
  "kernelspec": {
   "display_name": "Python 3",
   "name": "python3"
  },
  "language_info": {
   "codemirror_mode": {
    "name": "ipython",
    "version": 3
   },
   "file_extension": ".py",
   "mimetype": "text/x-python",
   "name": "python",
   "nbconvert_exporter": "python",
   "pygments_lexer": "ipython3",
   "version": "3.11.5"
  }
 },
 "nbformat": 4,
 "nbformat_minor": 0
}
