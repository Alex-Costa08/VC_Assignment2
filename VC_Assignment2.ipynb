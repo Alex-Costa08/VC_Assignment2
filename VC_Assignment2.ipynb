{
 "cells": [
  {
   "cell_type": "markdown",
   "metadata": {
    "id": "XugfLk7Up9ZD"
   },
   "source": [
    "# Computer Vision - Assignment 2\n",
    "\n",
    "## Protection Anode Detection in Underwater Structures\n",
    "\n",
    "-------\n",
    "\n",
    "#### Alexandre Vilhena da Costa\n",
    "#### Tiago Marques Claro"
   ]
  },
  {
   "cell_type": "markdown",
   "metadata": {
    "id": "NhmnIky0qqQb"
   },
   "source": [
    "Using the Sample folder to get an understanding of the labels.\n",
    "\n",
    "**Structure:**\n",
    "\n",
    "- class\n",
    "- x coordinate center point of the bounding box\n",
    "- y coordinate center point of the bounding box\n",
    "- bounding box width\n",
    "- bounding box height"
   ]
  },
  {
   "cell_type": "code",
   "execution_count": 3,
   "metadata": {
    "colab": {
     "base_uri": "https://localhost:8080/",
     "height": 1000
    },
    "id": "jTq7FMsUqpd_",
    "outputId": "74eeef04-d69b-4c70-9dfa-66be524856ba"
   },
   "outputs": [],
   "source": [
    "import os\n",
    "import cv2\n",
    "\n",
    "print_images = True\n",
    "\n",
    "# Get the images from VC_Assignment2/Sample/images\n",
    "image_folder = 'datasets/Sample/images'\n",
    "images_files = sorted([f for f in os.listdir(image_folder) if os.path.isfile(os.path.join(image_folder, f))])\n",
    "\n",
    "# Get the labels from VC_Assignment2/Sample/labels\n",
    "label_folder = 'datasets/Sample/labels'\n",
    "labels = sorted([f for f in os.listdir(label_folder) if os.path.isfile(os.path.join(label_folder, f))])\n",
    "\n",
    "# Create a dictionary to store images with their bounding boxes\n",
    "images_bbox = {}\n",
    "\n",
    "# Process each image and its corresponding label\n",
    "for image_file in images_files:\n",
    "    # Get corresponding label file (assuming same name, different extension)\n",
    "    label_file = os.path.splitext(image_file)[0] + '.txt'\n",
    "    \n",
    "    if label_file in labels:\n",
    "        image = cv2.imread(os.path.join(image_folder, image_file))\n",
    "        label_path = os.path.join(label_folder, label_file)\n",
    "        \n",
    "        with open(label_path, 'r') as label:\n",
    "            img_height, img_width, _ = image.shape\n",
    "            \n",
    "            for line in label:\n",
    "                line = line.split()\n",
    "                x = int(float(line[1]) * img_width)\n",
    "                y = int(float(line[2]) * img_height)\n",
    "                width = int(float(line[3]) * img_width)\n",
    "                height = int(float(line[4]) * img_height)\n",
    "                cv2.rectangle(image, (x - width // 2, y - height // 2), \n",
    "                            (x + width // 2, y + height // 2), (0, 255, 0), 2)\n",
    "        \n",
    "        images_bbox[image_file] = image\n",
    "\n",
    "# Show the images with their filenames\n",
    "if print_images:\n",
    "    for filename, image in images_bbox.items():\n",
    "        cv2.imshow(f'Image: {filename}', image)\n",
    "        cv2.waitKey(0)\n",
    "        cv2.destroyAllWindows()"
   ]
  }
 ],
 "metadata": {
  "colab": {
   "provenance": []
  },
  "kernelspec": {
   "display_name": "venv",
   "language": "python",
   "name": "python3"
  },
  "language_info": {
   "codemirror_mode": {
    "name": "ipython",
    "version": 3
   },
   "file_extension": ".py",
   "mimetype": "text/x-python",
   "name": "python",
   "nbconvert_exporter": "python",
   "pygments_lexer": "ipython3",
   "version": "3.12.3"
  }
 },
 "nbformat": 4,
 "nbformat_minor": 0
}
